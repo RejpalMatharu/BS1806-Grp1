{
 "cells": [
  {
   "cell_type": "markdown",
   "metadata": {},
   "source": [
    "# Network Analytics\n",
    "## Group Assignment 1"
   ]
  },
  {
   "cell_type": "markdown",
   "metadata": {},
   "source": [
    "### Group I:\n",
    "Mark O'Shea  \n",
    "Rejpal Matharu\n",
    "Mingyang Tham  \n",
    "Anna Kurek  \n",
    "Letty Huang  \n",
    "Yiting Wang"
   ]
  },
  {
   "cell_type": "markdown",
   "metadata": {},
   "source": [
    "### Part B:\n",
    "\n",
    "This script begins by importing the necessary libraries and codes."
   ]
  },
  {
   "cell_type": "code",
   "execution_count": 1,
   "metadata": {},
   "outputs": [
    {
     "name": "stderr",
     "output_type": "stream",
     "text": [
      "D:\\Anaconda3\\lib\\site-packages\\sklearn\\cross_validation.py:44: DeprecationWarning: This module was deprecated in version 0.18 in favor of the model_selection module into which all the refactored classes and functions are moved. Also note that the interface of the new CV iterators are different from that of this module. This module will be removed in 0.20.\n",
      "  \"This module will be removed in 0.20.\", DeprecationWarning)\n"
     ]
    }
   ],
   "source": [
    "import pandas as pd\n",
    "import numpy as np\n",
    "from sklearn.model_selection import train_test_split\n",
    "from sklearn.preprocessing import StandardScaler\n",
    "from sklearn.neighbors import KNeighborsClassifier\n",
    "from sklearn.cross_validation import cross_val_score\n",
    "from sklearn.metrics import classification_report\n",
    "from sklearn.metrics import confusion_matrix"
   ]
  },
  {
   "cell_type": "markdown",
   "metadata": {},
   "source": [
    "#### Steps 1, 2\n",
    "This dataset contains information on 1599 different wines, including some aspects of their chemical composition and their quality. The data is loaded into a `pandas` dataframe, and an additional binary variable $good\\_wine$ is created based on the $quality$ variable - $good\\_wine = 1$ if $quality \\geq 6$, and $0$ otherwise. "
   ]
  },
  {
   "cell_type": "code",
   "execution_count": 2,
   "metadata": {},
   "outputs": [
    {
     "name": "stderr",
     "output_type": "stream",
     "text": [
      "D:\\Anaconda3\\lib\\site-packages\\ipykernel_launcher.py:1: ParserWarning: Falling back to the 'python' engine because the 'c' engine does not support regex separators (separators > 1 char and different from '\\s+' are interpreted as regex); you can avoid this warning by specifying engine='python'.\n",
      "  \"\"\"Entry point for launching an IPython kernel.\n"
     ]
    }
   ],
   "source": [
    "wines = pd.read_table('winequality-red.csv', sep='\\;')\n",
    "wines.columns = wines.columns.str.replace('\"', '')\n",
    "wines['good_wine'] = np.where(wines['quality']>=6, 1, 0)"
   ]
  },
  {
   "cell_type": "markdown",
   "metadata": {},
   "source": [
    "#### Steps 3, 4\n",
    "Since the Nearest Neighbours method is sensitive to scaling, each datapoint in the dataset has to be scaled to its standard form, removing the mean and standardising the units to the standard deviation of each variable. This is done to each variable except for $good\\_wine$, using the formula:   $$x_{standard} = \\frac{x - \\mu}{\\sigma}$$\n",
    "where $\\mu$ is the mean of each variable, and $\\sigma$ is the standard deviation of each variable. \n",
    "\n",
    "The normalisation is done before splitting the dataset to ensure that the mean and variance used in the normalisation calculations are calculated using the entire dataset. Doing so provides a larger sample to calculate these statistics with, allowing it to be more representative of the population.\n",
    "\n",
    "After normalising the variables, the dataset is randomly shuffled and split into two dataframes of equal size, both of which are done by the `train_test_split` function in the `sklearn.model_selection` library. The first set of data would be used for training, the the second would be reserved as a test dataset, to be used later to evaluate the model that would be ultimately chosen."
   ]
  },
  {
   "cell_type": "code",
   "execution_count": 6,
   "metadata": {},
   "outputs": [],
   "source": [
    "scaler = StandardScaler()\n",
    "nwine = pd.DataFrame(scaler.fit_transform(wines), index = wines.index, columns = wines.columns)\n",
    "nwine['good_wine'] = wines['good_wine'][:]\n",
    "\n",
    "winetrain, winetest = train_test_split(nwine, test_size=0.5, random_state=123)"
   ]
  },
  {
   "cell_type": "markdown",
   "metadata": {},
   "source": [
    "#### Steps 5, 6\n",
    "\n",
    "This training dataset has now been cleaned and is ready to be trained on. In this study, several k-Nearest Neighbours models with varying values of k would be evaluated, each modelled using a 5-fold cross validation method and the mean accuracy over all 5 folds taken to be the accuracy of the model. The nearest neighbours were calculated using the Euclidean distance over all given variables except $quality$, as this variable was used to create the category of interest, $good\\_wine$.\n",
    "\n",
    "A hundred models were evaluated, with k starting at 1 and increasing incrementally by 5 until it reaches 501, and the result of each model saved into a dictionary. "
   ]
  },
  {
   "cell_type": "code",
   "execution_count": 13,
   "metadata": {},
   "outputs": [],
   "source": [
    "#Running 5-fold Cross Validation on all K's from 1 to 501. Recording results of each k in a dictionary.\n",
    "num = 1\n",
    "resultdict = {}\n",
    "while num < 502:\n",
    "    knn=KNeighborsClassifier(n_neighbors=num)\n",
    "    xvres = cross_val_score(knn, X=winetrain.loc[:,'fixed acidity':'alcohol'], \n",
    "                            y=winetrain['good_wine'], cv=5, scoring='accuracy')\n",
    "    resultdict[num] = xvres.mean()\n",
    "    num+=5\n",
    "\n",
    "#Saving best k result:\n",
    "bestk = max(resultdict, key=resultdict.get)"
   ]
  },
  {
   "cell_type": "markdown",
   "metadata": {},
   "source": [
    "#### Step 7\n",
    "\n",
    "The best model that returned the highest percentage of correctly classified wines occurred when $k=51$, thus the 51-nearest neighbours model is chosen as the optimal model. The model is then retrained over the entire training dataset and used to predict observations in the test dataset, providing an unabiased estimate of the model's performance on new data."
   ]
  },
  {
   "cell_type": "code",
   "execution_count": 15,
   "metadata": {},
   "outputs": [
    {
     "data": {
      "text/plain": [
       "array([[248, 139],\n",
       "       [ 86, 327]])"
      ]
     },
     "execution_count": 15,
     "metadata": {},
     "output_type": "execute_result"
    }
   ],
   "source": [
    "knn=KNeighborsClassifier(n_neighbors=bestk)\n",
    "knn.fit(winetrain.loc[:,'fixed acidity':'alcohol'], winetrain['good_wine'])\n",
    "predictions = knn.predict(winetest.loc[:,'fixed acidity':'alcohol'])\n",
    "\n",
    "confusion_matrix(y_true=winetest['good_wine'], y_pred=predictions)"
   ]
  },
  {
   "cell_type": "markdown",
   "metadata": {},
   "source": [
    "Of the 413 wines of good quality in the test set, this model correctly classified 327 of them, and of the 387 wines of non-good quality, the model correctly classified 248 of them. Given that $good\\_wine$ was the category of interest, this result indicates that the model has a sensitivity of 79% and a specificity of 64%, for a total accuracy of 72%. \n",
    "\n",
    "Compared to a naive model, which predicts every wine to fall under the majority class, this model fares very well. Given the training dataset used, a naive model would predict all wines to be a good wine, as the majority (442 of 799) wines in the training data are good wines. Using this prediction, it would have correctly classified 413 of the 800 wines in the test dataset, for a total accuracy of 52%. "
   ]
  },
  {
   "cell_type": "code",
   "execution_count": 24,
   "metadata": {},
   "outputs": [
    {
     "name": "stdout",
     "output_type": "stream",
     "text": [
      "442\n",
      "(799, 13)\n",
      "413\n",
      "(800, 13)\n"
     ]
    }
   ],
   "source": [
    "print(sum(winetrain['good_wine']))\n",
    "print(winetrain.shape)\n",
    "print(sum(winetest['good_wine']))\n",
    "print(winetest.shape)"
   ]
  },
  {
   "cell_type": "code",
   "execution_count": null,
   "metadata": {
    "collapsed": true
   },
   "outputs": [],
   "source": []
  }
 ],
 "metadata": {
  "kernelspec": {
   "display_name": "Python 3",
   "language": "python",
   "name": "python3"
  },
  "language_info": {
   "codemirror_mode": {
    "name": "ipython",
    "version": 3
   },
   "file_extension": ".py",
   "mimetype": "text/x-python",
   "name": "python",
   "nbconvert_exporter": "python",
   "pygments_lexer": "ipython3",
   "version": "3.6.1"
  }
 },
 "nbformat": 4,
 "nbformat_minor": 2
}
